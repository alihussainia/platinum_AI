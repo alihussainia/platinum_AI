{
 "cells": [
  {
   "cell_type": "markdown",
   "metadata": {},
   "source": [
    "### Dictionary Creation"
   ]
  },
  {
   "cell_type": "code",
   "execution_count": 1,
   "metadata": {},
   "outputs": [],
   "source": [
    "# Creating a dictionary\n",
    "\n",
    "# {} curly braces to initialize\n",
    "\n",
    "# Key-Value Pair\n",
    "\n",
    "dictionary_demo = {\n",
    "    'name' : 'ali',\n",
    "    'roll_number' : 1234\n",
    "}"
   ]
  },
  {
   "cell_type": "code",
   "execution_count": 2,
   "metadata": {},
   "outputs": [
    {
     "data": {
      "text/plain": [
       "{'name': 'ali', 'roll_number': 1234}"
      ]
     },
     "execution_count": 2,
     "metadata": {},
     "output_type": "execute_result"
    }
   ],
   "source": [
    "dictionary_demo"
   ]
  },
  {
   "cell_type": "markdown",
   "metadata": {},
   "source": [
    "### Dictionary Value Update"
   ]
  },
  {
   "cell_type": "code",
   "execution_count": 3,
   "metadata": {},
   "outputs": [],
   "source": [
    "# Update/Change a dictionary\n",
    "# keep in mind, the keys are immutable\n",
    "# i.e. once created they cannot be modified\n",
    "\n",
    "dictionary_demo['name'] = 'Salman Bhai'"
   ]
  },
  {
   "cell_type": "code",
   "execution_count": 4,
   "metadata": {},
   "outputs": [
    {
     "data": {
      "text/plain": [
       "{'name': 'Salman Bhai', 'roll_number': 1234}"
      ]
     },
     "execution_count": 4,
     "metadata": {},
     "output_type": "execute_result"
    }
   ],
   "source": [
    "dictionary_demo"
   ]
  },
  {
   "cell_type": "markdown",
   "metadata": {},
   "source": [
    "### Dictionary Element Deletion"
   ]
  },
  {
   "cell_type": "code",
   "execution_count": 5,
   "metadata": {},
   "outputs": [],
   "source": [
    "# Element with regards to dictionary is a key-value pair\n",
    "\n",
    "del dictionary_demo['roll_number']"
   ]
  },
  {
   "cell_type": "code",
   "execution_count": 6,
   "metadata": {},
   "outputs": [
    {
     "data": {
      "text/plain": [
       "{'name': 'Salman Bhai'}"
      ]
     },
     "execution_count": 6,
     "metadata": {},
     "output_type": "execute_result"
    }
   ],
   "source": [
    "dictionary_demo"
   ]
  },
  {
   "cell_type": "markdown",
   "metadata": {},
   "source": [
    "### Dictionary Element Insertion"
   ]
  },
  {
   "cell_type": "code",
   "execution_count": 7,
   "metadata": {},
   "outputs": [],
   "source": [
    "# inserting new element \n",
    "# It works like append\n",
    "\n",
    "dictionary_demo['qualification'] = ['Matric', 'Inter', 'B.Com', 'M.Com']"
   ]
  },
  {
   "cell_type": "code",
   "execution_count": 8,
   "metadata": {},
   "outputs": [
    {
     "data": {
      "text/plain": [
       "{'name': 'Salman Bhai', 'qualification': ['Matric', 'Inter', 'B.Com', 'M.Com']}"
      ]
     },
     "execution_count": 8,
     "metadata": {},
     "output_type": "execute_result"
    }
   ],
   "source": [
    "dictionary_demo"
   ]
  },
  {
   "cell_type": "markdown",
   "metadata": {},
   "source": [
    "### Dictionary Value Calling"
   ]
  },
  {
   "cell_type": "code",
   "execution_count": 10,
   "metadata": {},
   "outputs": [
    {
     "data": {
      "text/plain": [
       "['Matric', 'Inter', 'B.Com', 'M.Com']"
      ]
     },
     "execution_count": 10,
     "metadata": {},
     "output_type": "execute_result"
    }
   ],
   "source": [
    "# Pro-Tip: dictionary_demo['Salman Bhai'] <-- Error\n",
    "\n",
    "dictionary_demo['qualification']"
   ]
  },
  {
   "cell_type": "markdown",
   "metadata": {},
   "source": [
    "### Dictionary Looping"
   ]
  },
  {
   "cell_type": "code",
   "execution_count": 11,
   "metadata": {},
   "outputs": [],
   "source": [
    "# Looping can be done using three methods;\n",
    "# 1) Values\n",
    "# 2) Keys (Default)\n",
    "# 3) items"
   ]
  },
  {
   "cell_type": "code",
   "execution_count": 12,
   "metadata": {},
   "outputs": [
    {
     "name": "stdout",
     "output_type": "stream",
     "text": [
      "Salman Bhai\n",
      "['Matric', 'Inter', 'B.Com', 'M.Com']\n"
     ]
    }
   ],
   "source": [
    "for i in dictionary_demo.values():\n",
    "    print(i)"
   ]
  },
  {
   "cell_type": "code",
   "execution_count": 13,
   "metadata": {},
   "outputs": [
    {
     "name": "stdout",
     "output_type": "stream",
     "text": [
      "name\n",
      "qualification\n"
     ]
    }
   ],
   "source": [
    "for i in dictionary_demo.keys():\n",
    "    print(i)"
   ]
  },
  {
   "cell_type": "code",
   "execution_count": 14,
   "metadata": {},
   "outputs": [
    {
     "name": "stdout",
     "output_type": "stream",
     "text": [
      "name\n",
      "qualification\n"
     ]
    }
   ],
   "source": [
    "# default behavior\n",
    "\n",
    "for i in dictionary_demo:\n",
    "    print(i)"
   ]
  },
  {
   "cell_type": "code",
   "execution_count": 16,
   "metadata": {},
   "outputs": [
    {
     "name": "stdout",
     "output_type": "stream",
     "text": [
      "name   Salman Bhai\n",
      "qualification   ['Matric', 'Inter', 'B.Com', 'M.Com']\n"
     ]
    }
   ],
   "source": [
    "# key-value pair calling using loop\n",
    "\n",
    "for k,v in dictionary_demo.items():\n",
    "    print(k ,\" \", v)"
   ]
  },
  {
   "cell_type": "code",
   "execution_count": 17,
   "metadata": {},
   "outputs": [
    {
     "name": "stdout",
     "output_type": "stream",
     "text": [
      "('name', 'Salman Bhai')\n",
      "('qualification', ['Matric', 'Inter', 'B.Com', 'M.Com'])\n"
     ]
    }
   ],
   "source": [
    "for i in dictionary_demo.items():\n",
    "    print(i)"
   ]
  },
  {
   "cell_type": "markdown",
   "metadata": {},
   "source": [
    "### List of Dictionaries"
   ]
  },
  {
   "cell_type": "code",
   "execution_count": 18,
   "metadata": {},
   "outputs": [],
   "source": [
    "# Allows you to use dictionaries with some benefits of Lists\n",
    "# for example; indexing and slicing\n",
    "\n",
    "lst_dicts = [\n",
    "    {\n",
    "        'name': 'Ali',\n",
    "        'roll_number': 1111\n",
    "    },\n",
    "    \n",
    "    {\n",
    "        'name': 'Salman Bhai',\n",
    "        'roll_number': 2222\n",
    "    },\n",
    "    \n",
    "    {\n",
    "        'name': 'Nazia',\n",
    "        'roll_number': 3333\n",
    "    },\n",
    "    \n",
    "    {\n",
    "        'name': 'Shahtaj',\n",
    "        'roll_number': 4444\n",
    "    },\n",
    "    \n",
    "]"
   ]
  },
  {
   "cell_type": "code",
   "execution_count": 21,
   "metadata": {},
   "outputs": [
    {
     "data": {
      "text/plain": [
       "[{'name': 'Ali', 'roll_number': 1111},\n",
       " {'name': 'Salman Bhai', 'roll_number': 2222},\n",
       " {'name': 'Nazia', 'roll_number': 3333},\n",
       " {'name': 'Shahtaj', 'roll_number': 4444}]"
      ]
     },
     "execution_count": 21,
     "metadata": {},
     "output_type": "execute_result"
    }
   ],
   "source": [
    "lst_dicts"
   ]
  },
  {
   "cell_type": "code",
   "execution_count": 22,
   "metadata": {},
   "outputs": [
    {
     "data": {
      "text/plain": [
       "{'name': 'Salman Bhai', 'roll_number': 2222}"
      ]
     },
     "execution_count": 22,
     "metadata": {},
     "output_type": "execute_result"
    }
   ],
   "source": [
    "# indexing\n",
    "lst_dicts[1]"
   ]
  },
  {
   "cell_type": "code",
   "execution_count": 23,
   "metadata": {},
   "outputs": [
    {
     "data": {
      "text/plain": [
       "[{'name': 'Salman Bhai', 'roll_number': 2222},\n",
       " {'name': 'Nazia', 'roll_number': 3333}]"
      ]
     },
     "execution_count": 23,
     "metadata": {},
     "output_type": "execute_result"
    }
   ],
   "source": [
    "# slicing\n",
    "lst_dicts[1:3]"
   ]
  },
  {
   "cell_type": "code",
   "execution_count": 24,
   "metadata": {},
   "outputs": [],
   "source": [
    "# Assignment: list of dictionary\n",
    "# Company Payroll/Salaries\n",
    "# Employee id --> list index\n",
    "# list, with 10 elements i.e. 10 dictionaries"
   ]
  },
  {
   "cell_type": "markdown",
   "metadata": {},
   "source": [
    "### Dictionary of Dictionaries"
   ]
  },
  {
   "cell_type": "code",
   "execution_count": 27,
   "metadata": {},
   "outputs": [],
   "source": [
    "# Use case (Reason):\n",
    "# Lists of dictionaries are good to retrieve data using index\n",
    "# but it has one issue, i.e. if you will delete one element, it will sabotage/destory\n",
    "# the whole order\n",
    "\n",
    "# Consider this"
   ]
  },
  {
   "cell_type": "code",
   "execution_count": 32,
   "metadata": {},
   "outputs": [],
   "source": [
    "bank_acc_holders = [\n",
    "    {\n",
    "        'id':0,\n",
    "        'name': 'Ali',\n",
    "        'account_number': 0\n",
    "    },\n",
    "    \n",
    "    {\n",
    "        'id':1,\n",
    "        'name': 'Salman Bhai',\n",
    "        'account_number': 1\n",
    "    },\n",
    "    \n",
    "    {\n",
    "        'id':2,\n",
    "        'name': 'Nazia',\n",
    "        'account_number': 2\n",
    "    },\n",
    "    \n",
    "    {\n",
    "        'id':3,\n",
    "        'name': 'Shahtaj',\n",
    "        'account_number': 3\n",
    "    },\n",
    "    \n",
    "]"
   ]
  },
  {
   "cell_type": "code",
   "execution_count": 33,
   "metadata": {},
   "outputs": [
    {
     "data": {
      "text/plain": [
       "[{'id': 0, 'name': 'Ali', 'account_number': 0},\n",
       " {'id': 1, 'name': 'Salman Bhai', 'account_number': 1},\n",
       " {'id': 2, 'name': 'Nazia', 'account_number': 2},\n",
       " {'id': 3, 'name': 'Shahtaj', 'account_number': 3}]"
      ]
     },
     "execution_count": 33,
     "metadata": {},
     "output_type": "execute_result"
    }
   ],
   "source": [
    "bank_acc_holders"
   ]
  },
  {
   "cell_type": "markdown",
   "metadata": {},
   "source": [
    "Now, as per our data, Nazia has an id 2 therefore, whenever we have to call Nazia's data, we will use index 2\n",
    "and whenever we will require Shahtaj's data, we will use index 3"
   ]
  },
  {
   "cell_type": "code",
   "execution_count": 34,
   "metadata": {},
   "outputs": [
    {
     "data": {
      "text/plain": [
       "{'id': 2, 'name': 'Nazia', 'account_number': 2}"
      ]
     },
     "execution_count": 34,
     "metadata": {},
     "output_type": "execute_result"
    }
   ],
   "source": [
    "bank_acc_holders[2]"
   ]
  },
  {
   "cell_type": "markdown",
   "metadata": {},
   "source": [
    "Now, Nazia is going abroad, and she is closing her account"
   ]
  },
  {
   "cell_type": "code",
   "execution_count": 35,
   "metadata": {},
   "outputs": [],
   "source": [
    "del bank_acc_holders[2]"
   ]
  },
  {
   "cell_type": "code",
   "execution_count": 36,
   "metadata": {},
   "outputs": [
    {
     "data": {
      "text/plain": [
       "[{'id': 0, 'name': 'Ali', 'account_number': 0},\n",
       " {'id': 1, 'name': 'Salman Bhai', 'account_number': 1},\n",
       " {'id': 3, 'name': 'Shahtaj', 'account_number': 3}]"
      ]
     },
     "execution_count": 36,
     "metadata": {},
     "output_type": "execute_result"
    }
   ],
   "source": [
    "bank_acc_holders"
   ]
  },
  {
   "cell_type": "markdown",
   "metadata": {},
   "source": [
    "Now, we want Shahtaj's data retrieval"
   ]
  },
  {
   "cell_type": "code",
   "execution_count": 38,
   "metadata": {},
   "outputs": [
    {
     "ename": "IndexError",
     "evalue": "list index out of range",
     "output_type": "error",
     "traceback": [
      "\u001b[1;31m---------------------------------------------------------------------------\u001b[0m",
      "\u001b[1;31mIndexError\u001b[0m                                Traceback (most recent call last)",
      "\u001b[1;32m<ipython-input-38-92b438ff3a73>\u001b[0m in \u001b[0;36m<module>\u001b[1;34m()\u001b[0m\n\u001b[1;32m----> 1\u001b[1;33m \u001b[0mbank_acc_holders\u001b[0m\u001b[1;33m[\u001b[0m\u001b[1;36m3\u001b[0m\u001b[1;33m]\u001b[0m\u001b[1;33m\u001b[0m\u001b[0m\n\u001b[0m",
      "\u001b[1;31mIndexError\u001b[0m: list index out of range"
     ]
    }
   ],
   "source": [
    "bank_acc_holders[3]"
   ]
  },
  {
   "cell_type": "code",
   "execution_count": 39,
   "metadata": {},
   "outputs": [
    {
     "data": {
      "text/plain": [
       "[{'id': 0, 'name': 'Ali', 'account_number': 0},\n",
       " {'id': 1, 'name': 'Salman Bhai', 'account_number': 1},\n",
       " {'id': 3, 'name': 'Shahtaj', 'account_number': 3}]"
      ]
     },
     "execution_count": 39,
     "metadata": {},
     "output_type": "execute_result"
    }
   ],
   "source": [
    "bank_acc_holders"
   ]
  },
  {
   "cell_type": "code",
   "execution_count": 40,
   "metadata": {},
   "outputs": [],
   "source": [
    "# Solution: Dictionary of Dictionaries\n",
    "\n",
    "bank_acc_holders = {\n",
    "    0:{\n",
    "        'name': 'Ali',\n",
    "        'account_number': 0\n",
    "    },\n",
    "    \n",
    "    1:{\n",
    "        'name': 'Salman Bhai',\n",
    "        'account_number': 1\n",
    "    },\n",
    "    \n",
    "    2:{\n",
    "        'name': 'Nazia',\n",
    "        'account_number': 2\n",
    "    },\n",
    "    \n",
    "    3:{\n",
    "        'name': 'Shahtaj',\n",
    "        'account_number': 3\n",
    "    },\n",
    "    \n",
    "}"
   ]
  },
  {
   "cell_type": "code",
   "execution_count": 41,
   "metadata": {},
   "outputs": [
    {
     "data": {
      "text/plain": [
       "{0: {'name': 'Ali', 'account_number': 0},\n",
       " 1: {'name': 'Salman Bhai', 'account_number': 1},\n",
       " 2: {'name': 'Nazia', 'account_number': 2},\n",
       " 3: {'name': 'Shahtaj', 'account_number': 3}}"
      ]
     },
     "execution_count": 41,
     "metadata": {},
     "output_type": "execute_result"
    }
   ],
   "source": [
    "bank_acc_holders"
   ]
  },
  {
   "cell_type": "markdown",
   "metadata": {},
   "source": [
    "Now, Nazia is going abroad, and she is closing her account"
   ]
  },
  {
   "cell_type": "code",
   "execution_count": 42,
   "metadata": {},
   "outputs": [],
   "source": [
    "del bank_acc_holders[2]"
   ]
  },
  {
   "cell_type": "code",
   "execution_count": 43,
   "metadata": {},
   "outputs": [
    {
     "data": {
      "text/plain": [
       "{0: {'name': 'Ali', 'account_number': 0},\n",
       " 1: {'name': 'Salman Bhai', 'account_number': 1},\n",
       " 3: {'name': 'Shahtaj', 'account_number': 3}}"
      ]
     },
     "execution_count": 43,
     "metadata": {},
     "output_type": "execute_result"
    }
   ],
   "source": [
    "bank_acc_holders"
   ]
  },
  {
   "cell_type": "markdown",
   "metadata": {},
   "source": [
    "Now, we want Shahtaj's data retrieval"
   ]
  },
  {
   "cell_type": "code",
   "execution_count": 44,
   "metadata": {},
   "outputs": [
    {
     "data": {
      "text/plain": [
       "{'name': 'Shahtaj', 'account_number': 3}"
      ]
     },
     "execution_count": 44,
     "metadata": {},
     "output_type": "execute_result"
    }
   ],
   "source": [
    "bank_acc_holders[3]"
   ]
  },
  {
   "cell_type": "markdown",
   "metadata": {},
   "source": [
    "### Dictionary of dicitionaries data retrieval"
   ]
  },
  {
   "cell_type": "code",
   "execution_count": 45,
   "metadata": {},
   "outputs": [
    {
     "data": {
      "text/plain": [
       "'Shahtaj'"
      ]
     },
     "execution_count": 45,
     "metadata": {},
     "output_type": "execute_result"
    }
   ],
   "source": [
    "bank_acc_holders[3]['name']"
   ]
  },
  {
   "cell_type": "code",
   "execution_count": null,
   "metadata": {},
   "outputs": [],
   "source": []
  }
 ],
 "metadata": {
  "kernelspec": {
   "display_name": "Python 3",
   "language": "python",
   "name": "python3"
  },
  "language_info": {
   "codemirror_mode": {
    "name": "ipython",
    "version": 3
   },
   "file_extension": ".py",
   "mimetype": "text/x-python",
   "name": "python",
   "nbconvert_exporter": "python",
   "pygments_lexer": "ipython3",
   "version": "3.6.5"
  }
 },
 "nbformat": 4,
 "nbformat_minor": 2
}

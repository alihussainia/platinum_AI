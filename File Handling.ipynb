{
 "cells": [
  {
   "cell_type": "markdown",
   "metadata": {},
   "source": [
    "#### `with` \n",
    "- allows us the ease of automatically closing the opened file\n",
    "\n",
    "#### `open`\n",
    "- allows us to open files\n",
    "\n",
    "#### `filename.extension`\n",
    "- allows us to name the file along with extension\n",
    "\n",
    "#### `mode`\n",
    "- allows us to decide the mode of file operation i.e. x,w,r,a\n",
    "\n",
    "#### `as`\n",
    "- python's way of naming alias a.k.a. nickname\n",
    "\n",
    "#### `path`\n",
    "- windows; backward slash \\\n",
    "- linux/mac; forward slash /\n"
   ]
  },
  {
   "cell_type": "code",
   "execution_count": 5,
   "metadata": {},
   "outputs": [],
   "source": [
    "with open('abc.txt', 'x') as f: # x is used for file creation\n",
    "    pass                    # but if file is already present\n",
    "                                # in the current directory, it will raise an error"
   ]
  },
  {
   "cell_type": "code",
   "execution_count": 6,
   "metadata": {},
   "outputs": [],
   "source": [
    "with open('abc.txt', 'w') as f: # w checks, whether the file is present\n",
    "                                # if not, then creates it.\n",
    "    pass"
   ]
  },
  {
   "cell_type": "code",
   "execution_count": 7,
   "metadata": {},
   "outputs": [],
   "source": [
    "with open('abc.txt', 'r') as f: # r only reads if the file is present,\n",
    "                                # else, raises an error\n",
    "    pass"
   ]
  },
  {
   "cell_type": "code",
   "execution_count": 8,
   "metadata": {},
   "outputs": [],
   "source": [
    "with open(\"abc.txt\", \"a\"): # a is similar to w, in file opening\n",
    "    pass"
   ]
  },
  {
   "cell_type": "code",
   "execution_count": null,
   "metadata": {},
   "outputs": [],
   "source": []
  }
 ],
 "metadata": {
  "kernelspec": {
   "display_name": "Python 3",
   "language": "python",
   "name": "python3"
  },
  "language_info": {
   "codemirror_mode": {
    "name": "ipython",
    "version": 3
   },
   "file_extension": ".py",
   "mimetype": "text/x-python",
   "name": "python",
   "nbconvert_exporter": "python",
   "pygments_lexer": "ipython3",
   "version": "3.6.5"
  }
 },
 "nbformat": 4,
 "nbformat_minor": 2
}

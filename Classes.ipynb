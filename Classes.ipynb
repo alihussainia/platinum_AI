{
 "cells": [
  {
   "cell_type": "markdown",
   "metadata": {},
   "source": [
    "- Python is an object oriented language\n",
    "- In object oriented language, we consider everything \n",
    "  either a class or a part of class.\n",
    "- Class is just a template/clean unfilled form sheet.\n",
    "- Instance is a personal copy of your class.\n",
    "- Instance is simply created as variable, the name of the instance\n",
    "  must have to be unique i.e. unique identifier.\n",
    "- Classes follow the same naming conventions like the\n",
    "  variables do.\n",
    "- Custom use, the name of the class should start with\n",
    "  a CAPITAL LETTER i.e. Id_card\n",
    "- Instance is a personal copy, BUT all the information will be\n",
    "  structured in a same way.\n",
    "  \n",
    "  for example:\n",
    "  Student Name:_____________\n",
    "  Father Name:______________\n",
    "  Age:___________________\n",
    "  Standart:___________________\n",
    "  \n",
    "- parts of class, first let's discuss attribute.\n",
    "- An attribute, is a chunck of information to be \n",
    "  provided about each user.\n",
    "- class begins with a keyword pf ***class***"
   ]
  },
  {
   "cell_type": "code",
   "execution_count": 3,
   "metadata": {},
   "outputs": [],
   "source": [
    "# basic class creation\n",
    "class Id_card():\n",
    "    def __init__(self, student_name, father_name, age, standard): # for values input\n",
    "        self.student_name = student_name # attribute\n",
    "        self.father_name = father_name # attribute\n",
    "        self.age = age # attribute\n",
    "        self.standard = standard # attribute"
   ]
  },
  {
   "cell_type": "code",
   "execution_count": null,
   "metadata": {},
   "outputs": [],
   "source": []
  }
 ],
 "metadata": {
  "kernelspec": {
   "display_name": "Python 3",
   "language": "python",
   "name": "python3"
  },
  "language_info": {
   "codemirror_mode": {
    "name": "ipython",
    "version": 3
   },
   "file_extension": ".py",
   "mimetype": "text/x-python",
   "name": "python",
   "nbconvert_exporter": "python",
   "pygments_lexer": "ipython3",
   "version": "3.6.5"
  }
 },
 "nbformat": 4,
 "nbformat_minor": 2
}
